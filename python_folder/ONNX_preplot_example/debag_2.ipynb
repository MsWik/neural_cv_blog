{
 "cells": [
  {
   "cell_type": "code",
   "execution_count": 27,
   "id": "26a5db23",
   "metadata": {},
   "outputs": [],
   "source": [
    "import cv2\n",
    "import numpy as np"
   ]
  },
  {
   "cell_type": "code",
   "execution_count": 28,
   "id": "8c0556da",
   "metadata": {},
   "outputs": [],
   "source": [
    "siamRPN = cv2.dnn.readNet(\"dasiamrpn_model_271_.onnx\");\n"
   ]
  },
  {
   "cell_type": "code",
   "execution_count": 29,
   "id": "d9af0e93",
   "metadata": {},
   "outputs": [],
   "source": [
    "siamRPN.setPreferableBackend(cv2.dnn.DNN_BACKEND_CUDA)\n",
    "siamRPN.setPreferableTarget(cv2.dnn.DNN_TARGET_CUDA_FP16)"
   ]
  },
  {
   "cell_type": "code",
   "execution_count": 30,
   "id": "02c7cbba",
   "metadata": {},
   "outputs": [],
   "source": [
    "frame = cv2.imread(\"../9_1.jpg\");"
   ]
  },
  {
   "cell_type": "code",
   "execution_count": 31,
   "id": "d5621f2d",
   "metadata": {},
   "outputs": [],
   "source": [
    "frame = cv2.resize(frame, (271,271));\n"
   ]
  },
  {
   "cell_type": "code",
   "execution_count": 32,
   "id": "93260808",
   "metadata": {},
   "outputs": [],
   "source": [
    "frame= cv2.cvtColor(frame, cv2.COLOR_BGR2RGB)"
   ]
  },
  {
   "cell_type": "code",
   "execution_count": 33,
   "id": "47042187",
   "metadata": {},
   "outputs": [],
   "source": [
    "resized_image = frame.astype(np.float32)"
   ]
  },
  {
   "cell_type": "code",
   "execution_count": 38,
   "id": "14481f00",
   "metadata": {},
   "outputs": [],
   "source": [
    "resized_image = resized_image.reshape(1,3,271,271)"
   ]
  },
  {
   "cell_type": "code",
   "execution_count": 39,
   "id": "8e3c8b2b",
   "metadata": {},
   "outputs": [
    {
     "data": {
      "text/plain": [
       "(1, 3, 271, 271)"
      ]
     },
     "execution_count": 39,
     "metadata": {},
     "output_type": "execute_result"
    }
   ],
   "source": [
    "resized_image.shape"
   ]
  },
  {
   "cell_type": "code",
   "execution_count": 47,
   "id": "0231923c",
   "metadata": {},
   "outputs": [],
   "source": [
    "outNames = siamRPN.getUnconnectedOutLayersNames()"
   ]
  },
  {
   "cell_type": "code",
   "execution_count": 49,
   "id": "26e99808",
   "metadata": {},
   "outputs": [],
   "source": [
    "siamRPN.setInput(resized_image)\n",
    "outputs = siamRPN.forward(outNames)"
   ]
  },
  {
   "cell_type": "code",
   "execution_count": 52,
   "id": "2cbfd5e4",
   "metadata": {},
   "outputs": [
    {
     "data": {
      "text/plain": [
       "(1, 20, 19, 19)"
      ]
     },
     "execution_count": 52,
     "metadata": {},
     "output_type": "execute_result"
    }
   ],
   "source": [
    "outputs[0].shape"
   ]
  },
  {
   "cell_type": "code",
   "execution_count": 53,
   "id": "8102bfac",
   "metadata": {},
   "outputs": [
    {
     "data": {
      "text/plain": [
       "(1, 10, 19, 19)"
      ]
     },
     "execution_count": 53,
     "metadata": {},
     "output_type": "execute_result"
    }
   ],
   "source": [
    "outputs[1].shape"
   ]
  },
  {
   "cell_type": "markdown",
   "id": "b3302834",
   "metadata": {},
   "source": [
    "---"
   ]
  },
  {
   "cell_type": "code",
   "execution_count": 54,
   "id": "31fb83f2",
   "metadata": {},
   "outputs": [
    {
     "name": "stdout",
     "output_type": "stream",
     "text": [
      "Success\n"
     ]
    }
   ],
   "source": [
    "import os\n",
    "import tensorrt as trt\n",
    "import numpy as np\n",
    "import pycuda.driver as cuda\n",
    "import pycuda.autoinit\n",
    "# def load_engine(trt_runtime, engine_path):\n",
    "#     with open(engine_path, 'rb') as f:\n",
    "#         engine_data = f.read()\n",
    "#     engine = trt_runtime.deserialize_cuda_engine(engine_data)\n",
    "#     return engine\n",
    "\n",
    "def load_engine(trt_runtime, engine_path):\n",
    "    trt.init_libnvinfer_plugins(None, \"\")             ### Try to add here\n",
    "    with open(engine_path, 'rb') as f:\n",
    "        engine_data = f.read()\n",
    "    engine = trt_runtime.deserialize_cuda_engine(engine_data)\n",
    "    return engine\n",
    "\n",
    "TRT_LOGGER = trt.Logger(trt.Logger.WARNING)\n",
    "trt_runtime = trt.Runtime(TRT_LOGGER)\n",
    "trt_engine_path = \"dasiamrpn_model32_r_271.trt\"\n",
    "trt_engine = load_engine(trt_runtime, trt_engine_path)\n",
    "\n",
    "if trt_engine is not None:\n",
    "    print(\"Success\")                                        \n",
    "else:\n",
    "    print(\"Failed\")"
   ]
  },
  {
   "cell_type": "code",
   "execution_count": 55,
   "id": "ec1b6009",
   "metadata": {},
   "outputs": [],
   "source": [
    "def infer(context, input_img, output_size, batch_size):\n",
    "    # Load engine\n",
    "    # engine = context.get_engine()\n",
    "    # assert(engine.get_nb_bindings() == 2)\n",
    "    # Convert input data to float32\n",
    "    input_img = input_img.astype(np.float32)\n",
    "    # Create host buffer to receive data\n",
    "    output_0 = np.empty(output_size[0], dtype = np.float32)\n",
    "    output_1 = np.empty(output_size[1], dtype = np.float32)\n",
    "\n",
    "    # Allocate device memory\n",
    "    d_input = cuda.mem_alloc(batch_size * input_img.size * input_img.dtype.itemsize)\n",
    "    d_output_0 = cuda.mem_alloc(batch_size * output_0.size * output_0.dtype.itemsize)\n",
    "    d_output_1 = cuda.mem_alloc(batch_size * output_1.size * output_1.dtype.itemsize)\n",
    "\n",
    "\n",
    "    bindings = [int(d_input), int(d_output_0), int(d_output_1) ]\n",
    "    stream = cuda.Stream()\n",
    "    # Transfer input data to device\n",
    "    #print(type(input_img))\n",
    "    cuda.memcpy_htod_async(d_input, input_img, stream)\n",
    "    # Execute model\n",
    "    context.execute_async(batch_size, bindings, stream.handle, None)\n",
    "    # Transfer predictions back\n",
    "    cuda.memcpy_dtoh_async(output_0, d_output_0, stream)\n",
    "    cuda.memcpy_dtoh_async(output_1, d_output_1, stream)\n",
    "\n",
    "    # Synchronize threads\n",
    "    stream.synchronize()\n",
    "    # Return predictions\n",
    "    return output_0, output_1"
   ]
  },
  {
   "cell_type": "code",
   "execution_count": 56,
   "id": "7b32f617",
   "metadata": {},
   "outputs": [],
   "source": [
    "context = trt_engine.create_execution_context()"
   ]
  },
  {
   "cell_type": "code",
   "execution_count": 59,
   "id": "1780d62b",
   "metadata": {},
   "outputs": [],
   "source": [
    "trt_outputs = infer(context, resized_image, ((20, 19, 19),(10, 19, 19)), 1)"
   ]
  },
  {
   "cell_type": "code",
   "execution_count": 63,
   "id": "4ad30ffe",
   "metadata": {},
   "outputs": [
    {
     "data": {
      "text/plain": [
       "(20, 19, 19)"
      ]
     },
     "execution_count": 63,
     "metadata": {},
     "output_type": "execute_result"
    }
   ],
   "source": [
    "trt_outputs[0].shape"
   ]
  },
  {
   "cell_type": "code",
   "execution_count": null,
   "id": "38c65b3b",
   "metadata": {},
   "outputs": [],
   "source": []
  },
  {
   "cell_type": "markdown",
   "id": "ba6d40ef",
   "metadata": {},
   "source": [
    "---"
   ]
  },
  {
   "cell_type": "code",
   "execution_count": 60,
   "id": "f192195e",
   "metadata": {},
   "outputs": [],
   "source": [
    "def MSE(Y, YH):\n",
    "     return np.square(Y - YH).mean()"
   ]
  },
  {
   "cell_type": "code",
   "execution_count": 64,
   "id": "d1d56e0e",
   "metadata": {},
   "outputs": [
    {
     "data": {
      "text/plain": [
       "4.3490377e-13"
      ]
     },
     "execution_count": 64,
     "metadata": {},
     "output_type": "execute_result"
    }
   ],
   "source": [
    "MSE(trt_outputs[0],outputs[0][0])"
   ]
  },
  {
   "cell_type": "code",
   "execution_count": 65,
   "id": "58e46816",
   "metadata": {},
   "outputs": [
    {
     "data": {
      "text/plain": [
       "4.982093e-11"
      ]
     },
     "execution_count": 65,
     "metadata": {},
     "output_type": "execute_result"
    }
   ],
   "source": [
    "MSE(trt_outputs[1],outputs[1][0])"
   ]
  },
  {
   "cell_type": "code",
   "execution_count": 67,
   "id": "be6b1b78",
   "metadata": {},
   "outputs": [
    {
     "data": {
      "text/plain": [
       "array([[[ 0.62413144,  0.37625077,  0.39105883, ...,  0.89146537,\n",
       "          0.68924814,  0.5945139 ],\n",
       "        [ 0.64111656,  0.28482875,  0.296942  , ...,  0.8964713 ,\n",
       "          0.6460773 ,  0.60448545],\n",
       "        [ 0.45329237,  0.22925846,  0.37725642, ...,  0.81064445,\n",
       "          0.42859083,  0.34351513],\n",
       "        ...,\n",
       "        [ 0.7738891 ,  0.8510453 ,  0.78433746, ...,  0.5530611 ,\n",
       "          0.4002137 ,  0.46479753],\n",
       "        [ 0.6979913 ,  0.86116743,  0.7195456 , ...,  0.5003079 ,\n",
       "          0.2606023 ,  0.25208303],\n",
       "        [ 0.29469752,  0.55350906,  0.44854686, ...,  0.54339296,\n",
       "          0.46993694,  0.45106155]],\n",
       "\n",
       "       [[ 0.4972058 ,  0.22878574,  0.2870435 , ...,  0.7740341 ,\n",
       "          0.62201446,  0.47663295],\n",
       "        [ 0.43245113,  0.14138657,  0.21727616, ...,  0.8188428 ,\n",
       "          0.5941189 ,  0.42802143],\n",
       "        [ 0.23891452,  0.11920982,  0.39351636, ...,  0.74957573,\n",
       "          0.39137334,  0.21183448],\n",
       "        ...,\n",
       "        [ 0.72834206,  0.8286162 ,  0.76011866, ...,  0.4682725 ,\n",
       "          0.35429487,  0.38467428],\n",
       "        [ 0.6273184 ,  0.7974907 ,  0.6794754 , ...,  0.42539847,\n",
       "          0.22524966,  0.18185277],\n",
       "        [ 0.27276847,  0.50595504,  0.46290264, ...,  0.4706457 ,\n",
       "          0.44021183,  0.37559804]],\n",
       "\n",
       "       [[ 0.08927195, -0.07761923, -0.01954508, ...,  0.04696221,\n",
       "         -0.00248719, -0.09776851],\n",
       "        [-0.1501177 , -0.22066012, -0.15159316, ...,  0.26577857,\n",
       "          0.13752149, -0.22029363],\n",
       "        [-0.18714464, -0.10741831,  0.1852245 , ...,  0.3612613 ,\n",
       "          0.20349194, -0.1454781 ],\n",
       "        ...,\n",
       "        [ 0.40824342,  0.56261307,  0.5451349 , ...,  0.14362629,\n",
       "          0.08636187,  0.09662928],\n",
       "        [ 0.16917646,  0.32152772,  0.39483228, ...,  0.18883704,\n",
       "          0.12390443,  0.09962918],\n",
       "        [ 0.09561999,  0.23606604,  0.38510278, ...,  0.23768431,\n",
       "          0.2408842 ,  0.14913057]],\n",
       "\n",
       "       ...,\n",
       "\n",
       "       [[-0.06944652, -0.57737774, -0.6736664 , ..., -0.13858591,\n",
       "         -0.05067537, -0.08357392],\n",
       "        [-0.24036998, -0.57540816, -0.52767456, ...,  0.07927045,\n",
       "          0.04393319, -0.2039561 ],\n",
       "        [-0.06489193, -0.3746412 , -0.19620909, ..., -0.0589859 ,\n",
       "          0.0897167 , -0.20530897],\n",
       "        ...,\n",
       "        [ 0.08688791,  0.11917858,  0.107574  , ..., -0.02314887,\n",
       "         -0.06638952,  0.03350322],\n",
       "        [ 0.20054218,  0.00140012, -0.29888278, ...,  0.06600311,\n",
       "          0.01564   ,  0.11640018],\n",
       "        [ 0.3446689 ,  0.06581993, -0.28233033, ...,  0.40135413,\n",
       "          0.17568162,  0.18793008]],\n",
       "\n",
       "       [[-0.28750482, -0.7146374 , -0.74338216, ...,  0.13312206,\n",
       "          0.06629135, -0.14849548],\n",
       "        [-0.24082176, -0.35891166, -0.5053795 , ..., -0.01242786,\n",
       "         -0.05216832, -0.32696143],\n",
       "        [-0.0680709 , -0.18500249, -0.24717623, ..., -0.23119637,\n",
       "         -0.35243604, -0.74438995],\n",
       "        ...,\n",
       "        [ 0.06720422,  0.12464769,  0.16964062, ..., -0.32334426,\n",
       "         -0.03847773,  0.17232925],\n",
       "        [-0.21132758, -0.23381445, -0.2573965 , ..., -0.33613345,\n",
       "         -0.01322707,  0.11804195],\n",
       "        [-0.38798937, -0.39242247, -0.32024252, ..., -0.1531641 ,\n",
       "          0.06008654,  0.00613087]],\n",
       "\n",
       "       [[-0.1920034 , -0.5091498 , -0.35558888, ..., -0.04479314,\n",
       "         -0.25450474, -0.4048032 ],\n",
       "        [-0.07349768, -0.17773521, -0.20865107, ..., -0.01910432,\n",
       "         -0.2531478 , -0.3737129 ],\n",
       "        [-0.16001917, -0.16636229, -0.12732047, ..., -0.23876074,\n",
       "         -0.43539923, -0.57824373],\n",
       "        ...,\n",
       "        [-0.22571582, -0.12416688, -0.01463842, ..., -0.34201294,\n",
       "         -0.21608716, -0.03442059],\n",
       "        [-0.42596525, -0.2803174 , -0.3142818 , ..., -0.5297774 ,\n",
       "         -0.3413203 , -0.20270911],\n",
       "        [-0.59497625, -0.40493706, -0.38813055, ..., -0.53106314,\n",
       "         -0.37654573, -0.28426912]]], dtype=float32)"
      ]
     },
     "execution_count": 67,
     "metadata": {},
     "output_type": "execute_result"
    }
   ],
   "source": [
    "trt_outputs[0]"
   ]
  },
  {
   "cell_type": "code",
   "execution_count": 68,
   "id": "9c14db57",
   "metadata": {},
   "outputs": [
    {
     "data": {
      "text/plain": [
       "array([[[ 0.6241312 ,  0.3762508 ,  0.39105868, ...,  0.8914651 ,\n",
       "          0.68924767,  0.5945127 ],\n",
       "        [ 0.6411166 ,  0.28482914,  0.29694262, ...,  0.89647144,\n",
       "          0.6460778 ,  0.60448444],\n",
       "        [ 0.45329198,  0.2292584 ,  0.37725693, ...,  0.8106448 ,\n",
       "          0.42859033,  0.34351477],\n",
       "        ...,\n",
       "        [ 0.77389   ,  0.85104597,  0.78433764, ...,  0.55306125,\n",
       "          0.40021372,  0.46479768],\n",
       "        [ 0.6979912 ,  0.8611672 ,  0.7195449 , ...,  0.5003085 ,\n",
       "          0.26060316,  0.25208274],\n",
       "        [ 0.29469737,  0.5535086 ,  0.4485465 , ...,  0.5433933 ,\n",
       "          0.46993628,  0.45106164]],\n",
       "\n",
       "       [[ 0.49720567,  0.22878608,  0.28704336, ...,  0.7740336 ,\n",
       "          0.6220139 ,  0.4766319 ],\n",
       "        [ 0.43245113,  0.14138691,  0.21727662, ...,  0.8188431 ,\n",
       "          0.59411937,  0.42802054],\n",
       "        [ 0.23891407,  0.11920988,  0.39351705, ...,  0.74957603,\n",
       "          0.39137274,  0.21183382],\n",
       "        ...,\n",
       "        [ 0.72834295,  0.828617  ,  0.7601186 , ...,  0.4682726 ,\n",
       "          0.3542949 ,  0.3846745 ],\n",
       "        [ 0.6273181 ,  0.7974908 ,  0.6794747 , ...,  0.42539868,\n",
       "          0.22525042,  0.1818525 ],\n",
       "        [ 0.2727682 ,  0.5059545 ,  0.46290255, ...,  0.47064582,\n",
       "          0.4402113 ,  0.37559804]],\n",
       "\n",
       "       [[ 0.08927221, -0.07761839, -0.01954549, ...,  0.04696156,\n",
       "         -0.00248745, -0.09776912],\n",
       "        [-0.1501178 , -0.22066003, -0.15159266, ...,  0.26577935,\n",
       "          0.13752212, -0.22029394],\n",
       "        [-0.18714507, -0.1074188 ,  0.18522505, ...,  0.3612621 ,\n",
       "          0.20349135, -0.1454789 ],\n",
       "        ...,\n",
       "        [ 0.4082437 ,  0.5626138 ,  0.5451343 , ...,  0.14362697,\n",
       "          0.08636197,  0.09662937],\n",
       "        [ 0.16917588,  0.32152838,  0.3948315 , ...,  0.18883704,\n",
       "          0.12390465,  0.09962864],\n",
       "        [ 0.09561983,  0.2360656 ,  0.38510293, ...,  0.23768379,\n",
       "          0.24088348,  0.14913063]],\n",
       "\n",
       "       ...,\n",
       "\n",
       "       [[-0.0694471 , -0.57737786, -0.67366636, ..., -0.13858674,\n",
       "         -0.05067613, -0.08357424],\n",
       "        [-0.2403702 , -0.5754078 , -0.5276746 , ...,  0.07926984,\n",
       "          0.04393327, -0.20395653],\n",
       "        [-0.0648921 , -0.3746414 , -0.19620954, ..., -0.05898507,\n",
       "          0.08971657, -0.20530953],\n",
       "        ...,\n",
       "        [ 0.08688687,  0.11917882,  0.10757439, ..., -0.02314935,\n",
       "         -0.06638905,  0.03350364],\n",
       "        [ 0.20054238,  0.00140186, -0.29888314, ...,  0.06600343,\n",
       "          0.01563905,  0.11639994],\n",
       "        [ 0.34466875,  0.06581952, -0.28233057, ...,  0.40135488,\n",
       "          0.17568251,  0.18792936]],\n",
       "\n",
       "       [[-0.28750613, -0.7146379 , -0.74338174, ...,  0.13312168,\n",
       "          0.06629057, -0.14849631],\n",
       "        [-0.24082163, -0.35891291, -0.50538033, ..., -0.0124289 ,\n",
       "         -0.05216849, -0.32696155],\n",
       "        [-0.06807137, -0.18500161, -0.24717602, ..., -0.23119701,\n",
       "         -0.3524362 , -0.7443912 ],\n",
       "        ...,\n",
       "        [ 0.06720431,  0.12464853,  0.16964222, ..., -0.32334492,\n",
       "         -0.03847829,  0.1723297 ],\n",
       "        [-0.21132767, -0.23381445, -0.2573956 , ..., -0.33613217,\n",
       "         -0.01322684,  0.11804232],\n",
       "        [-0.38798985, -0.39242262, -0.32024255, ..., -0.15316409,\n",
       "          0.06008745,  0.00613096]],\n",
       "\n",
       "       [[-0.1920042 , -0.50914973, -0.35558867, ..., -0.04479294,\n",
       "         -0.25450563, -0.40480426],\n",
       "        [-0.0734976 , -0.17773634, -0.20865199, ..., -0.01910507,\n",
       "         -0.2531483 , -0.37371314],\n",
       "        [-0.16001955, -0.16636172, -0.12732059, ..., -0.23876137,\n",
       "         -0.4353997 , -0.5782448 ],\n",
       "        ...,\n",
       "        [-0.2257151 , -0.12416596, -0.01463708, ..., -0.34201333,\n",
       "         -0.21608791, -0.03442048],\n",
       "        [-0.42596507, -0.280318  , -0.31428084, ..., -0.52977645,\n",
       "         -0.34131998, -0.20270869],\n",
       "        [-0.59497696, -0.40493715, -0.38813007, ..., -0.5310619 ,\n",
       "         -0.37654537, -0.28426877]]], dtype=float32)"
      ]
     },
     "execution_count": 68,
     "metadata": {},
     "output_type": "execute_result"
    }
   ],
   "source": [
    "outputs[0][0]"
   ]
  },
  {
   "cell_type": "code",
   "execution_count": 69,
   "id": "a3ba23c3",
   "metadata": {},
   "outputs": [],
   "source": [
    "import tensorrt as trt"
   ]
  },
  {
   "cell_type": "code",
   "execution_count": 70,
   "id": "78fb2c42",
   "metadata": {},
   "outputs": [
    {
     "data": {
      "text/plain": [
       "'8.2.1.8'"
      ]
     },
     "execution_count": 70,
     "metadata": {},
     "output_type": "execute_result"
    }
   ],
   "source": [
    "trt.__version__"
   ]
  },
  {
   "cell_type": "code",
   "execution_count": null,
   "id": "45b3eedd",
   "metadata": {},
   "outputs": [],
   "source": []
  }
 ],
 "metadata": {
  "kernelspec": {
   "display_name": "Python 3 (ipykernel)",
   "language": "python",
   "name": "python3"
  },
  "language_info": {
   "codemirror_mode": {
    "name": "ipython",
    "version": 3
   },
   "file_extension": ".py",
   "mimetype": "text/x-python",
   "name": "python",
   "nbconvert_exporter": "python",
   "pygments_lexer": "ipython3",
   "version": "3.9.7"
  }
 },
 "nbformat": 4,
 "nbformat_minor": 5
}
